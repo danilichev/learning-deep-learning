{
 "cells": [
  {
   "cell_type": "code",
   "execution_count": 16,
   "metadata": {},
   "outputs": [],
   "source": [
    "# https://github.com/LukeDitria/pytorch_tutorials/blob/main/section02_pytorch_basics/notebooks/Tutorial1_Pytorch_Basics.ipynb"
   ]
  },
  {
   "cell_type": "code",
   "execution_count": 17,
   "metadata": {},
   "outputs": [],
   "source": [
    "import torch\n",
    "import torch.nn as nn\n",
    "import matplotlib.pyplot as plt"
   ]
  },
  {
   "cell_type": "code",
   "execution_count": 18,
   "metadata": {},
   "outputs": [],
   "source": [
    "class SimpleFunction(nn.Module):\n",
    "    def __init__(self):\n",
    "        super(SimpleFunction, self).__init__()\n",
    "\n",
    "    def forward(self, x):\n",
    "        return x * 2 + 4"
   ]
  },
  {
   "cell_type": "code",
   "execution_count": 19,
   "metadata": {},
   "outputs": [
    {
     "name": "stdout",
     "output_type": "stream",
     "text": [
      "24\n"
     ]
    }
   ],
   "source": [
    "simple_function = SimpleFunction()\n",
    "# perform the forward pass\n",
    "output = simple_function(10)\n",
    "print(output)"
   ]
  },
  {
   "cell_type": "code",
   "execution_count": 20,
   "metadata": {},
   "outputs": [],
   "source": [
    "class LinearModel(nn.Module):\n",
    "    \"\"\"\n",
    "    Takes the input x and returns the output x * w^t + b\n",
    "    \"\"\"\n",
    "    def __init__(self, input_size, output_size):\n",
    "        super(LinearModel, self).__init__()\n",
    "        self.w = nn.Parameter(torch.randn(output_size, input_size))\n",
    "        self.b = nn.Parameter(torch.randn(1, output_size))\n",
    "\n",
    "    def forward(self, x):\n",
    "        return torch.matmul(x, self.w.t()) + self.b"
   ]
  },
  {
   "cell_type": "code",
   "execution_count": 21,
   "metadata": {},
   "outputs": [
    {
     "name": "stdout",
     "output_type": "stream",
     "text": [
      "tensor([[ 0.9196, -1.5991,  1.0505, -0.8569, -0.8793],\n",
      "        [ 0.1523,  0.0779,  1.0046,  0.1098, -0.8151],\n",
      "        [-0.4878, -0.9652,  0.0731, -1.2769, -0.1231],\n",
      "        [ 0.1520,  0.2981,  0.7367, -0.0525, -0.0895],\n",
      "        [-1.3556, -0.2290,  0.0700,  1.3226,  0.6139],\n",
      "        [ 0.8232,  0.6851, -0.3162,  1.4883, -1.1874],\n",
      "        [-0.8190, -1.4161, -0.8168, -1.1742,  0.8445],\n",
      "        [ 1.7818, -0.1779, -1.3720,  0.2005, -1.0055],\n",
      "        [ 0.2335, -0.5991, -0.8302,  1.1727, -2.2059],\n",
      "        [ 0.7265,  1.5776, -1.7726, -0.0507,  0.0067]])\n"
     ]
    }
   ],
   "source": [
    "input_data = torch.randn(10, 5)\n",
    "print(input_data)"
   ]
  },
  {
   "cell_type": "code",
   "execution_count": 22,
   "metadata": {},
   "outputs": [
    {
     "name": "stdout",
     "output_type": "stream",
     "text": [
      "torch.Size([10, 1])\n",
      "tensor([[-2.6494],\n",
      "        [-3.2368],\n",
      "        [-0.2372],\n",
      "        [-2.0661],\n",
      "        [-2.2230],\n",
      "        [-4.1407],\n",
      "        [ 1.3237],\n",
      "        [-1.9264],\n",
      "        [-4.4839],\n",
      "        [ 0.2016]])\n"
     ]
    }
   ],
   "source": [
    "linear_model = LinearModel(5, 1)\n",
    "output = linear_model(input_data)\n",
    "\n",
    "print(output.shape)\n",
    "print(output.detach())"
   ]
  },
  {
   "cell_type": "markdown",
   "metadata": {},
   "source": [
    "**Pytorch inbuilt Neural Network Layers**"
   ]
  },
  {
   "cell_type": "code",
   "execution_count": 23,
   "metadata": {},
   "outputs": [
    {
     "name": "stdout",
     "output_type": "stream",
     "text": [
      "w:\n",
      " tensor([[ 0.0505,  0.5630, -0.5259]])\n",
      "b:\n",
      " tensor([0.1401])\n",
      "w shape:\n",
      " torch.Size([1, 3])\n",
      "b shape:\n",
      " torch.Size([1])\n"
     ]
    }
   ],
   "source": [
    "# Build a linear layer aka a \"fully connected\" layer aka a \"Perceptron\" layer\n",
    "# nn.Linear(Number of inputs, Number of outputs) \n",
    "linear = nn.Linear(3, 1) \n",
    "\n",
    "# Lets have a look at the parameters of this layer\n",
    "# The \"weights\" are what is multipied by the input data\n",
    "print ('w:\\n', linear.weight.data)\n",
    "# The bias is then added on!\n",
    "print ('b:\\n', linear.bias.data)\n",
    "\n",
    "print ('w shape:\\n', linear.weight.data.shape)\n",
    "print ('b shape:\\n', linear.bias.data.shape)"
   ]
  },
  {
   "cell_type": "code",
   "execution_count": 24,
   "metadata": {},
   "outputs": [
    {
     "name": "stdout",
     "output_type": "stream",
     "text": [
      "w:\n",
      " None\n",
      "b:\n",
      " None\n"
     ]
    }
   ],
   "source": [
    "# Lets have a look at the gradients of these parameters\n",
    "print ('w:\\n', linear.weight.grad)\n",
    "print ('b:\\n', linear.bias.grad)\n",
    "# Note: Pytorch initialises the grad of the tensors to \"None\" NOT 0!\n",
    "# They only get created after the first backwards pass."
   ]
  },
  {
   "cell_type": "code",
   "execution_count": 25,
   "metadata": {},
   "outputs": [
    {
     "name": "stdout",
     "output_type": "stream",
     "text": [
      "Input data:\n",
      " tensor([[-1.0622, -1.0838,  1.1487],\n",
      "        [-1.2904, -0.2212,  0.4652],\n",
      "        [-1.1687,  0.0958, -0.1772],\n",
      "        [-0.0270,  1.5988,  2.0372],\n",
      "        [-0.0467,  0.9119, -0.9777],\n",
      "        [-0.2547, -0.8765, -0.2199],\n",
      "        [-0.4122, -1.3749, -1.3129],\n",
      "        [-0.8484,  0.1532, -0.1320],\n",
      "        [ 0.4284,  0.4263, -0.4045],\n",
      "        [ 2.6583,  2.1352, -1.2488]])\n",
      "Output data:\n",
      " tensor([[-0.9759],\n",
      "        [-1.0591],\n",
      "        [-1.2398],\n",
      "        [ 3.6105],\n",
      "        [-0.1155],\n",
      "        [-1.3347],\n",
      "        [-3.1014],\n",
      "        [-0.8503],\n",
      "        [ 0.4551],\n",
      "        [ 3.5458]])\n"
     ]
    }
   ],
   "source": [
    "# Create a random data input tensor\n",
    "data = torch.randn(100, 3)\n",
    "# Create some noisey target data\n",
    "target = data.sum(1, keepdims=True) + 0.01*torch.randn(data.shape[0], 1)\n",
    "print ('Input data:\\n', data[:10])\n",
    "print ('Output data:\\n', target[:10])"
   ]
  },
  {
   "cell_type": "code",
   "execution_count": 26,
   "metadata": {},
   "outputs": [
    {
     "name": "stdout",
     "output_type": "stream",
     "text": [
      "Network output:\n",
      " tensor([[-1.1279],\n",
      "        [-0.2943],\n",
      "        [ 0.2282],\n",
      "        [-0.0324],\n",
      "        [ 1.1653],\n",
      "        [-0.2507],\n",
      "        [ 0.0355],\n",
      "        [ 0.2529],\n",
      "        [ 0.6144],\n",
      "        [ 2.1332]])\n",
      "Network output shape: torch.Size([100, 1])\n"
     ]
    }
   ],
   "source": [
    "# Remember! To perform a forward pass of our model, we just need to \"call\" our network\n",
    "# Pytorch's nn.Module class will automatically pass it to the \"forward\" function in the layer class\n",
    "target_pred = linear(data)\n",
    "print(\"Network output:\\n\", target_pred.data[:10])\n",
    "print(\"Network output shape:\", target_pred.shape)"
   ]
  },
  {
   "cell_type": "markdown",
   "metadata": {},
   "source": [
    "**Loss Functions and Optimizers**"
   ]
  },
  {
   "cell_type": "code",
   "execution_count": 27,
   "metadata": {},
   "outputs": [],
   "source": [
    "# Lets perform a regression with a mean square error loss\n",
    "loss_function = nn.MSELoss()\n",
    "\n",
    "# Lets create a Stochastic gradient descent optimizer with a learning rate of 0.01\n",
    "# (the way we will be using it, it is just normal GD) \n",
    "# When we create the optimizer we need to tell it WHAT it needs to optimize, so the first thing \n",
    "# We pass it are the linear layer's \"parameters\"\n",
    "optimizer = torch.optim.SGD(linear.parameters(), lr=0.01) "
   ]
  },
  {
   "cell_type": "code",
   "execution_count": 28,
   "metadata": {},
   "outputs": [
    {
     "data": {
      "text/plain": [
       "Text(0, 0.5, 'Ouputs')"
      ]
     },
     "execution_count": 28,
     "metadata": {},
     "output_type": "execute_result"
    },
    {
     "data": {
      "image/png": "[encoded data removed]",
      "text/plain": [
       "<Figure size 640x480 with 1 Axes>"
      ]
     },
     "metadata": {},
     "output_type": "display_data"
    }
   ],
   "source": [
    "# Plotting the first dimension of the input vs the output\n",
    "\n",
    "# Use the outputs of the model from a few cells ago\n",
    "plt.scatter(data[:, 0], target_pred.detach())\n",
    "# Use the Ground Truth data\n",
    "plt.scatter(data[:, 0], target, marker=\"x\")\n",
    "plt.legend([\"Predictions\", \"Ground Truth Data\"])\n",
    "plt.xlabel(\"Inputs\")\n",
    "plt.ylabel(\"Ouputs\")"
   ]
  },
  {
   "cell_type": "code",
   "execution_count": 29,
   "metadata": {},
   "outputs": [
    {
     "name": "stdout",
     "output_type": "stream",
     "text": [
      "loss: 4.344559192657471\n"
     ]
    }
   ],
   "source": [
    "loss = loss_function(target_pred, target)\n",
    "print('loss:', loss.item())"
   ]
  },
  {
   "cell_type": "code",
   "execution_count": 30,
   "metadata": {},
   "outputs": [
    {
     "name": "stdout",
     "output_type": "stream",
     "text": [
      "dL/dw:  tensor([[-2.4181, -0.9556, -3.8634]])\n",
      "dL/db:  tensor([0.5827])\n"
     ]
    }
   ],
   "source": [
    "# Backward pass.\n",
    "loss.backward()\n",
    "# Print out the gradients.\n",
    "print ('dL/dw: ', linear.weight.grad) \n",
    "print ('dL/db: ', linear.bias.grad)\n",
    "# Note for every backwards pass of the model we must first perform a forward pass\n",
    "# as data from parts of the computational graph have been deleted upon the backward pass to save memory.\n",
    "# We can tell Pytorch to hold onto this data, but, in many cases it needs to be recalculated anyway"
   ]
  },
  {
   "cell_type": "code",
   "execution_count": 31,
   "metadata": {},
   "outputs": [
    {
     "name": "stdout",
     "output_type": "stream",
     "text": [
      "loss after 1 step optimization:  4.127100944519043\n"
     ]
    }
   ],
   "source": [
    "optimizer.step()\n",
    "\n",
    "# Perform another forward pass of the model to check the new loss\n",
    "target_pred = linear(data)\n",
    "loss = loss_function(target_pred, target)\n",
    "print('loss after 1 step optimization: ', loss.item())"
   ]
  },
  {
   "cell_type": "markdown",
   "metadata": {},
   "source": [
    "**The Training Loop**\n",
    "For MOST tasks (but not all) a simgle training iteration in Pytorch can be summarised in the following 5 steps:\n",
    "- Forward pass of our model with the data.\n",
    "- Calculate the loss.\n",
    "- Reset the current stored gradients to 0\n",
    "- Backpropagate the loss to calculate the new gradients.\n",
    "- Perform an optimization step."
   ]
  },
  {
   "cell_type": "code",
   "execution_count": 32,
   "metadata": {},
   "outputs": [
    {
     "name": "stdout",
     "output_type": "stream",
     "text": [
      "loss: 0.00011130240454804152\n"
     ]
    }
   ],
   "source": [
    "loss_logger = []\n",
    "\n",
    "for i in range(1000):\n",
    "    # Perform a forward pass of our data\n",
    "    target_pred = linear(data)\n",
    "    \n",
    "    # Calculate the loss\n",
    "    loss = loss_function(target_pred, target)\n",
    "    \n",
    "    # .zero_grad sets the stored gradients to 0\n",
    "    # If we didn't do this they would be added to the \n",
    "    # Gradients from the previous step!\n",
    "    optimizer.zero_grad()\n",
    "    \n",
    "    # Calculate the new gradients\n",
    "    loss.backward()\n",
    "    \n",
    "    # Perform an optimization step!\n",
    "    optimizer.step()\n",
    "\n",
    "    loss_logger.append(loss.item())\n",
    "    \n",
    "print(\"loss:\", loss.item())"
   ]
  },
  {
   "cell_type": "code",
   "execution_count": 33,
   "metadata": {},
   "outputs": [
    {
     "data": {
      "text/plain": [
       "[<matplotlib.lines.Line2D at 0x12fa89390>]"
      ]
     },
     "execution_count": 33,
     "metadata": {},
     "output_type": "execute_result"
    },
    {
     "data": {
      "image/png": "[encoded data removed]",
      "text/plain": [
       "<Figure size 640x480 with 1 Axes>"
      ]
     },
     "metadata": {},
     "output_type": "display_data"
    }
   ],
   "source": [
    "plt.plot(loss_logger)"
   ]
  },
  {
   "cell_type": "code",
   "execution_count": 34,
   "metadata": {},
   "outputs": [
    {
     "data": {
      "text/plain": [
       "Text(0, 0.5, 'Ouputs')"
      ]
     },
     "execution_count": 34,
     "metadata": {},
     "output_type": "execute_result"
    },
    {
     "data": {
      "image/png": "[encoded data removed]",
      "text/plain": [
       "<Figure size 640x480 with 1 Axes>"
      ]
     },
     "metadata": {},
     "output_type": "display_data"
    }
   ],
   "source": [
    "# Plotting the first dimension of the input vs the output\n",
    "plt.scatter(data[:, 0], target_pred.detach())\n",
    "plt.scatter(data[:, 0], target, marker=\"x\")\n",
    "plt.legend([\"Predictions\", \"Ground Truth\"])\n",
    "plt.xlabel(\"Inputs\")\n",
    "plt.ylabel(\"Ouputs\")"
   ]
  }
 ],
 "metadata": {
  "kernelspec": {
   "display_name": "venv",
   "language": "python",
   "name": "python3"
  },
  "language_info": {
   "codemirror_mode": {
    "name": "ipython",
    "version": 3
   },
   "file_extension": ".py",
   "mimetype": "text/x-python",
   "name": "python",
   "nbconvert_exporter": "python",
   "pygments_lexer": "ipython3",
   "version": "3.10.13"
  }
 },
 "nbformat": 4,
 "nbformat_minor": 2
}
