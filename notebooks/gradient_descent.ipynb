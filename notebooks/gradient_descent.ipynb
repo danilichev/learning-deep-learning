{
 "cells": [
  {
   "cell_type": "markdown",
   "metadata": {},
   "source": [
    "Ref: [Grokking Deep Learning](https://github.com/iamtrask/Grokking-Deep-Learning) Chapter 4"
   ]
  },
  {
   "cell_type": "code",
   "execution_count": null,
   "metadata": {},
   "outputs": [],
   "source": [
    "weight = 0.5\n",
    "goal_pred = 0.8\n",
    "input = 0.5\n",
    "\n",
    "for iteration in range(20):\n",
    "    pred = input * weight\n",
    "    error = (pred - goal_pred) ** 2\n",
    "    delta = pred - goal_pred\n",
    "    weight_delta = delta * input\n",
    "    weight = weight - weight_delta\n",
    "\n",
    "    print(\"Error:\" + str(error) + \" Prediction:\" + str(pred))"
   ]
  },
  {
   "cell_type": "code",
   "execution_count": null,
   "metadata": {},
   "outputs": [],
   "source": [
    "input = 2\n",
    "goal_pred = 0.8\n",
    "\n",
    "weight = 0.5\n",
    "\n",
    "for iteration in range(20):\n",
    "    pred = input * weight\n",
    "    error = (pred - goal_pred) ** 2\n",
    "    delta = pred - goal_pred\n",
    "    weight_delta = delta * input\n",
    "    weight = weight - weight_delta\n",
    "\n",
    "    print(\"Error:\" + str(error) + \" Prediction:\" + str(pred))"
   ]
  },
  {
   "cell_type": "markdown",
   "metadata": {},
   "source": [
    "(x - y)^2 = (x - y)(x - y) = x^2 - 2xy + y^2\n"
   ]
  },
  {
   "cell_type": "code",
   "execution_count": null,
   "metadata": {},
   "outputs": [],
   "source": [
    "input = 2\n",
    "goal_pred = 0.8\n",
    "\n",
    "weight = 0.5\n",
    "alpha = 0.1\n",
    "\n",
    "for iteration in range(20):\n",
    "    pred = input * weight\n",
    "    error = (pred - goal_pred) ** 2 \n",
    "    '''\n",
    "    The derivative of error with respect to weight is found using the chain rule.\n",
    "    The outer function is x^2, and the inner function is (input * weight - goal_pred).\n",
    "    The derivative of x^2 with respect to x is 2x,\n",
    "    and the derivative of (input * weight - goal_pred) with respect to weight is input.\n",
    "    Applying the chain rule, we multiply the derivative of the outer function evaluated\n",
    "    at the inner function by the derivative of the inner function: \n",
    "    d(error)/d(weight) = 2 * (input * weight - goal_pred) * input.\n",
    "    Since we're interested in the direction of the change rather than the magnitude,\n",
    "    we can ignore the constant factor of 2 for simplicity\n",
    "    '''\n",
    "    derivative = input * (pred - goal_pred)\n",
    "    weight = weight - (alpha * derivative)\n",
    "\n",
    "    print(\"Error:\" + str(error) + \" Prediction:\" + str(pred))"
   ]
  }
 ],
 "metadata": {
  "kernelspec": {
   "display_name": "venv",
   "language": "python",
   "name": "python3"
  },
  "language_info": {
   "codemirror_mode": {
    "name": "ipython",
    "version": 3
   },
   "file_extension": ".py",
   "mimetype": "text/x-python",
   "name": "python",
   "nbconvert_exporter": "python",
   "pygments_lexer": "ipython3",
   "version": "3.10.13"
  }
 },
 "nbformat": 4,
 "nbformat_minor": 2
}
