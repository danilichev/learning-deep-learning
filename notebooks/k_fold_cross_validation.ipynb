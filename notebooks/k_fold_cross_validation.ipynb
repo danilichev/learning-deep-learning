{
 "cells": [
  {
   "cell_type": "code",
   "execution_count": null,
   "metadata": {},
   "outputs": [],
   "source": [
    "# based on https://github.com/christianversloot/machine-learning-articles/blob/main/how-to-use-k-fold-cross-validation-with-pytorch.md"
   ]
  },
  {
   "cell_type": "code",
   "execution_count": null,
   "metadata": {},
   "outputs": [],
   "source": [
    "from sklearn.model_selection import KFold\n",
    "from torch import nn\n",
    "from torch.utils.data import ConcatDataset, DataLoader,  SubsetRandomSampler\n",
    "from torchvision import transforms\n",
    "from torchvision.datasets import MNIST\n",
    "from tqdm import tqdm, trange\n",
    "import torch"
   ]
  },
  {
   "cell_type": "code",
   "execution_count": null,
   "metadata": {},
   "outputs": [],
   "source": [
    "def reset_weights(model: nn.Module):\n",
    "  for layer in model.children():\n",
    "   if hasattr(layer, 'reset_parameters'):\n",
    "    print(f'Reset trainable parameters of layer {layer}')\n",
    "    layer.reset_parameters()"
   ]
  },
  {
   "cell_type": "code",
   "execution_count": null,
   "metadata": {},
   "outputs": [],
   "source": [
    "class SimpleConvNet(nn.Module):\n",
    "  def __init__(self):\n",
    "    super().__init__()\n",
    "    self.layers = nn.Sequential(\n",
    "      nn.Conv2d(1, 10, kernel_size=3),\n",
    "      nn.ReLU(),\n",
    "      nn.Flatten(),\n",
    "      nn.Linear(26 * 26 * 10, 50),\n",
    "      nn.ReLU(),\n",
    "      nn.Linear(50, 20),\n",
    "      nn.ReLU(),\n",
    "      nn.Linear(20, 10)\n",
    "    )\n",
    "\n",
    "\n",
    "  def forward(self, x):\n",
    "    return self.layers(x)"
   ]
  },
  {
   "cell_type": "code",
   "execution_count": null,
   "metadata": {},
   "outputs": [],
   "source": [
    "torch.manual_seed(42)\n",
    "\n",
    "dataset_dir = '../temp'\n",
    "k_folds = 5\n",
    "loss_function = nn.CrossEntropyLoss()\n",
    "num_epochs = 2\n",
    "\n",
    "results = {}"
   ]
  },
  {
   "cell_type": "code",
   "execution_count": null,
   "metadata": {},
   "outputs": [],
   "source": [
    "train_dataset = MNIST(dataset_dir, download=True, transform=transforms.ToTensor(), train=True)\n",
    "test_datasdet = MNIST(dataset_dir, download=True, transform=transforms.ToTensor(), train=False)\n",
    "\n",
    "dataset = ConcatDataset([train_dataset, test_datasdet])"
   ]
  },
  {
   "cell_type": "code",
   "execution_count": null,
   "metadata": {},
   "outputs": [],
   "source": [
    "kfold = KFold(n_splits=k_folds, shuffle=True)"
   ]
  },
  {
   "cell_type": "code",
   "execution_count": null,
   "metadata": {},
   "outputs": [],
   "source": [
    "for fold, (train_ids, test_ids) in enumerate(kfold.split(dataset)):\n",
    "    print(f'Fold: {fold}')\n",
    "    \n",
    "    train_subsampler = SubsetRandomSampler(train_ids)\n",
    "    test_subsampler = SubsetRandomSampler(test_ids)\n",
    "    \n",
    "    train_loader = DataLoader(dataset, batch_size=10, sampler=train_subsampler)\n",
    "    test_loader = DataLoader(dataset, batch_size=10, sampler=test_subsampler)\n",
    "    \n",
    "    network = SimpleConvNet()\n",
    "    network.apply(reset_weights)\n",
    "    \n",
    "    optimizer = torch.optim.Adam(network.parameters(), lr=1e-4)\n",
    "    \n",
    "    for epoch in trange(num_epochs, desc=\"Epoch\"):\n",
    "        print(f'Starting epoch {epoch + 1}')\n",
    "        current_loss = 0.0\n",
    "\n",
    "        # Wrap train_loader with tqdm for a progress bar\n",
    "        for i, data in enumerate(tqdm(train_loader, desc=f\"Training Fold {fold} Epoch {epoch+1}\"), 0):\n",
    "            inputs, targets = data\n",
    "            \n",
    "            optimizer.zero_grad()\n",
    "    \n",
    "            outputs = network(inputs)\n",
    "            \n",
    "            loss = loss_function(outputs, targets)\n",
    "            \n",
    "            loss.backward()\n",
    "            \n",
    "            optimizer.step()\n",
    "            \n",
    "            current_loss += loss.item()\n",
    "            if i % 500 == 499:\n",
    "                print('Loss after mini-batch %5d: %.3f' %\n",
    "                      (i + 1, current_loss / 500))\n",
    "                current_loss = 0.0\n",
    "                \n",
    "        print('Training process has finished. Saving trained model.')\n",
    "\n",
    "        print('Starting testing')\n",
    "        \n",
    "        save_path = f'../temp/k-fold-example-model-fold-{fold}.pth'\n",
    "        torch.save(network.state_dict(), save_path)\n",
    "\n",
    "        correct, total = 0, 0\n",
    "        # Wrap test_loader with tqdm for a progress bar\n",
    "        with torch.no_grad():\n",
    "            for i, data in enumerate(tqdm(test_loader, desc=f\"Testing Fold {fold}\"), 0):\n",
    "\n",
    "                inputs, targets = data\n",
    "\n",
    "                outputs = network(inputs)\n",
    "\n",
    "                _, predicted = torch.max(outputs.data, 1)\n",
    "                total += targets.size(0)\n",
    "                correct += (predicted == targets).sum().item()\n",
    "\n",
    "            print('Accuracy for fold %d: %d %%' % (fold, 100.0 * correct / total))\n",
    "          \n",
    "            results[fold] = 100.0 * (correct / total)"
   ]
  },
  {
   "cell_type": "code",
   "execution_count": null,
   "metadata": {},
   "outputs": [],
   "source": [
    "sum = 0.0\n",
    "\n",
    "for key, value in results.items():\n",
    "  print(f'Fold {key}: {value} %')\n",
    "  sum += value\n",
    "\n",
    "print(f'Average: {sum/len(results.items())} %')"
   ]
  }
 ],
 "metadata": {
  "kernelspec": {
   "display_name": ".venv",
   "language": "python",
   "name": "python3"
  },
  "language_info": {
   "codemirror_mode": {
    "name": "ipython",
    "version": 3
   },
   "file_extension": ".py",
   "mimetype": "text/x-python",
   "name": "python",
   "nbconvert_exporter": "python",
   "pygments_lexer": "ipython3",
   "version": "3.10.13"
  }
 },
 "nbformat": 4,
 "nbformat_minor": 2
}
